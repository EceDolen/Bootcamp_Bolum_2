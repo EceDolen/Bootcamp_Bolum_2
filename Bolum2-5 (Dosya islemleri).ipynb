{
 "cells": [
  {
   "cell_type": "markdown",
   "metadata": {},
   "source": [
    "1.Seçeceğiniz herhangi bir şiiri bilgisayarına .txt dsyası olarak kaydedin. Şiirin kaç dizeden oluştuğunu hesaplayın ve başka bir dosyaya her dizenin ilk kelimesini yazdırın.\n"
   ]
  },
  {
   "cell_type": "code",
   "execution_count": 3,
   "metadata": {},
   "outputs": [
    {
     "name": "stdout",
     "output_type": "stream",
     "text": [
      "19\n"
     ]
    }
   ],
   "source": [
    "with open(\"murathanmungan.txt\", \"r\", encoding='utf8') as f:\n",
    "    line=f.readlines()\n",
    "print(len(line))"
   ]
  },
  {
   "cell_type": "code",
   "execution_count": 4,
   "metadata": {},
   "outputs": [
    {
     "name": "stdout",
     "output_type": "stream",
     "text": [
      "﻿Kimdi\n"
     ]
    }
   ],
   "source": [
    "with open(\"MurathanMungan.txt\", \"r\", encoding='utf8') as f:\n",
    "    line = f.readline()\n",
    "    list=line.split()[0]\n",
    "    print(list)\n",
    "    \n",
    "    #burda sadece ilk dizenin ilk kelimesini yazdirabildim"
   ]
  },
  {
   "cell_type": "markdown",
   "metadata": {},
   "source": []
  },
  {
   "cell_type": "markdown",
   "metadata": {},
   "source": []
  },
  {
   "cell_type": "markdown",
   "metadata": {},
   "source": [
    "2.Parametre olarak girilen bir sayının asal sayı olup olmadığını belirten bir fonksiyon yazın."
   ]
  },
  {
   "cell_type": "code",
   "execution_count": 24,
   "metadata": {},
   "outputs": [
    {
     "name": "stdout",
     "output_type": "stream",
     "text": [
      "Sayı Asal Değil\n",
      "Sayı Asal Değil\n",
      "Sayı Asal\n"
     ]
    }
   ],
   "source": [
    "#Burda garip bir formul buldum ancak sonuc cumle kendini tekrar ediyor\n",
    "\n",
    "sayi=10\n",
    "for i in range(2,sayi):\n",
    "      if(sayi%i==0):            \n",
    "            print(\"Sayı Asal Değil\")\n",
    "else:\n",
    "            print(\"Sayı Asal\")"
   ]
  },
  {
   "cell_type": "code",
   "execution_count": 26,
   "metadata": {},
   "outputs": [
    {
     "ename": "SyntaxError",
     "evalue": "invalid syntax (<ipython-input-26-5f4fd1722fbe>, line 2)",
     "output_type": "error",
     "traceback": [
      "\u001b[1;36m  File \u001b[1;32m\"<ipython-input-26-5f4fd1722fbe>\"\u001b[1;36m, line \u001b[1;32m2\u001b[0m\n\u001b[1;33m    def asal_kontrol(sayi)\u001b[0m\n\u001b[1;37m                          ^\u001b[0m\n\u001b[1;31mSyntaxError\u001b[0m\u001b[1;31m:\u001b[0m invalid syntax\n"
     ]
    }
   ],
   "source": [
    "Sayi=15\n",
    "def asal_kontrol(sayi)\n",
    "for x in range(2,sayi):\n",
    "    if sayi%x==0:\n",
    "        return False\n",
    "else:\n",
    "        return True\n",
    "    \n",
    "    #Bu olmadi"
   ]
  },
  {
   "cell_type": "code",
   "execution_count": 6,
   "metadata": {},
   "outputs": [
    {
     "name": "stdout",
     "output_type": "stream",
     "text": [
      "Sayı: 15\n",
      "Sayı Asal Değil\n"
     ]
    }
   ],
   "source": [
    "#Ancak  bu sekilde bir formul bularak cikti ama def kullanimi tabiki burda\n",
    "\n",
    "sayac=0\n",
    "sayi=input('Sayı: ')\n",
    "for i in range(2,int(sayi)):\n",
    "      if(int(sayi)%i==0):\n",
    "            sayac+=1\n",
    "            break\n",
    "if(sayac!=0):\n",
    "      print(\"Sayı Asal Değil\")\n",
    "else:\n",
    "      print(\"Sayı Asal\")"
   ]
  },
  {
   "cell_type": "markdown",
   "metadata": {},
   "source": []
  },
  {
   "cell_type": "markdown",
   "metadata": {},
   "source": []
  },
  {
   "cell_type": "markdown",
   "metadata": {},
   "source": [
    "3.Parametre olarak girilecek listenin elemanlarını yeni bir listeye her değer sadece bir kere geçecek şekilde aktaran bir fonksiyon yazın. Normalde bu işlemi set() komutu ile yapabiliriz ama bu seferlik bu komutu kullanmayalım.\n",
    "\n",
    " Örnek : uniq_liste([1,2,2,3,3,4,4]) = [1,2,3,4]"
   ]
  },
  {
   "cell_type": "code",
   "execution_count": 27,
   "metadata": {},
   "outputs": [
    {
     "name": "stdout",
     "output_type": "stream",
     "text": [
      "[2, 4, 10, 20, 5]\n"
     ]
    }
   ],
   "source": [
    "def Remove(duplicate): \n",
    "    final_list = [] \n",
    "    for number in duplicate: \n",
    "        if number not in final_list: \n",
    "            final_list.append(number) \n",
    "    return final_list\n",
    "\n",
    "duplicate = [2, 4, 10, 20, 5, 2, 20, 4] \n",
    "print(Remove(duplicate))"
   ]
  },
  {
   "cell_type": "markdown",
   "metadata": {},
   "source": []
  },
  {
   "cell_type": "markdown",
   "metadata": {},
   "source": []
  },
  {
   "cell_type": "markdown",
   "metadata": {},
   "source": [
    "Python'da hazır birçok modül bulunmaktadır. Zaman ile ilgili modüllerden birisini import ederek, parametre olarak doğum tarihi alan ve yaşı döndüren bir fonksiyon yazınız."
   ]
  },
  {
   "cell_type": "code",
   "execution_count": null,
   "metadata": {},
   "outputs": [],
   "source": []
  },
  {
   "cell_type": "code",
   "execution_count": null,
   "metadata": {},
   "outputs": [],
   "source": []
  }
 ],
 "metadata": {
  "kernelspec": {
   "display_name": "Python 3",
   "language": "python",
   "name": "python3"
  },
  "language_info": {
   "codemirror_mode": {
    "name": "ipython",
    "version": 3
   },
   "file_extension": ".py",
   "mimetype": "text/x-python",
   "name": "python",
   "nbconvert_exporter": "python",
   "pygments_lexer": "ipython3",
   "version": "3.7.2"
  }
 },
 "nbformat": 4,
 "nbformat_minor": 2
}
