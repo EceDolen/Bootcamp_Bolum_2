{
 "cells": [
  {
   "cell_type": "markdown",
   "metadata": {},
   "source": [
    "# BOLUM 2 / 4 "
   ]
  },
  {
   "cell_type": "markdown",
   "metadata": {},
   "source": [
    "1. Kullanıcıdan Santigrat ya da Fahrenheit olarak sıcaklık değerini alacak ve diğer sıcaklık birimine çevirecek bir kod yazın. Dönüşüm için C = (5/9) * (F - 32) formülünü kullanabilirsiniz.\n",
    "\n",
    "Örnek : \"40C\" --> \"104F\" \"52F\" --> \"11.1\""
   ]
  },
  {
   "cell_type": "code",
   "execution_count": 14,
   "metadata": {},
   "outputs": [
    {
     "name": "stdout",
     "output_type": "stream",
     "text": [
      "Enter a temperature: 42f\n",
      "5.555555555555555C\n"
     ]
    }
   ],
   "source": [
    "Girilen_sicaklik = (input(\"Enter a temperature: \"))\n",
    "Sicaklik =int(Girilen_sicaklik[:-1])\n",
    "sicaklik_tip = Girilen_sicaklik [-1].upper()\n",
    "if sicaklik_tip == \"C\": \n",
    "    Yeni_Sicaklik = (9/5) * (int(Sicaklik) + 32)\n",
    "    print(\"{}F\".format(Yeni_Sicaklik))\n",
    "     \n",
    "    \n",
    "elif sicaklik_tip == \"F\": \n",
    "    Yeni_Sicaklik = (5/9) * (int(Sicaklik) - 32)\n",
    "    print(\"{}C\".format(Yeni_Sicaklik))"
   ]
  },
  {
   "cell_type": "markdown",
   "metadata": {},
   "source": [
    "2. Kullanıcının girdiği kelimeyi ters çeviren bir kod yazınız.\n",
    "\n",
    " Örnek : \"otobüs\" --> \"süboto"
   ]
  },
  {
   "cell_type": "code",
   "execution_count": 9,
   "metadata": {},
   "outputs": [
    {
     "name": "stdout",
     "output_type": "stream",
     "text": [
      "Lutfen kelimeyi yaziniz:sonundabuldum\n",
      "mudlubadnunos"
     ]
    }
   ],
   "source": [
    "kelime =input(\"Lutfen kelimeyi yaziniz:\")\n",
    "\n",
    "for i in range(-1,-len(kelime)-1,-1):\n",
    "    print (kelime[i], end=(\"\")) \n",
    "\n"
   ]
  },
  {
   "cell_type": "markdown",
   "metadata": {},
   "source": [
    "3. 1'den 50'ye kadar olan Fibonacci sayılarından oluşan bir liste oluşturun. İlk iki Fibonacci sayısı 1'dir. Sonraki sayılar, önceki iki sayının toplamıdır"
   ]
  },
  {
   "cell_type": "code",
   "execution_count": 4,
   "metadata": {},
   "outputs": [
    {
     "name": "stdout",
     "output_type": "stream",
     "text": [
      "[1, 1, 2, 3, 5, 8, 13, 21, 34]\n"
     ]
    }
   ],
   "source": [
    "fibonacci_numbers = [1, 1] \n",
    "while fibonacci_numbers[-1]+fibonacci_numbers[-2] <50:\n",
    "    fibonacci_numbers.append(fibonacci_numbers[-1]+fibonacci_numbers[-2]) \n",
    "print(fibonacci_numbers)  \n",
    "    "
   ]
  },
  {
   "cell_type": "markdown",
   "metadata": {},
   "source": [
    "Girilen bir sayı için çarpım tablosunu yazdırın."
   ]
  },
  {
   "cell_type": "code",
   "execution_count": 19,
   "metadata": {},
   "outputs": [
    {
     "name": "stdout",
     "output_type": "stream",
     "text": [
      "Bir sayı girin:11\n",
      "11 * 1=11\n",
      "11 * 2=22\n",
      "11 * 3=33\n",
      "11 * 4=44\n",
      "11 * 5=55\n",
      "11 * 6=66\n",
      "11 * 7=77\n",
      "11 * 8=88\n",
      "11 * 9=99\n",
      "11 * 10=110\n"
     ]
    }
   ],
   "source": [
    "sayi =int(input(\"Bir sayı girin:\"))\n",
    "for i in range(1,11):\n",
    " print(\"{} * {}={}\".format(sayi,i,sayi*i))\n"
   ]
  },
  {
   "cell_type": "markdown",
   "metadata": {},
   "source": [
    "List comprehension kullanarak, 1'den 20'ye kadar tek sayıların karesini, çift sayıların küpünü içeren bir liste oluşturun."
   ]
  },
  {
   "cell_type": "code",
   "execution_count": 12,
   "metadata": {},
   "outputs": [
    {
     "name": "stdout",
     "output_type": "stream",
     "text": [
      "[1, 8, 9, 64, 25, 216, 49, 512, 81, 1000, 121, 1728, 169, 2744, 225, 4096, 289, 5832, 361]\n"
     ]
    }
   ],
   "source": [
    "yeni_liste = [x**3 if x%2==0 else x**2 for x in range(1,20)] \n",
    "print (yeni_liste)"
   ]
  }
 ],
 "metadata": {
  "kernelspec": {
   "display_name": "Python 3",
   "language": "python",
   "name": "python3"
  },
  "language_info": {
   "codemirror_mode": {
    "name": "ipython",
    "version": 3
   },
   "file_extension": ".py",
   "mimetype": "text/x-python",
   "name": "python",
   "nbconvert_exporter": "python",
   "pygments_lexer": "ipython3",
   "version": "3.7.2"
  }
 },
 "nbformat": 4,
 "nbformat_minor": 2
}
