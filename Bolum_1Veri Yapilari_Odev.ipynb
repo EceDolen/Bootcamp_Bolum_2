{
 "cells": [
  {
   "cell_type": "markdown",
   "metadata": {},
   "source": [
    "# İçerisinde 7 günün bulunduğu bir sözlük oluşturun."
   ]
  },
  {
   "cell_type": "code",
   "execution_count": 3,
   "metadata": {},
   "outputs": [
    {
     "name": "stdout",
     "output_type": "stream",
     "text": [
      "{'pazartesi': '1', 'sali': '2', 'carsamba': '3', 'persembe': '4', 'cuma': '5', 'cumartesi': '6', 'pazar': '7'}\n"
     ]
    }
   ],
   "source": [
    "gunler = { \"pazartesi\": \"1\", \"sali\": \"2\", \"carsamba\": \"3\", \"persembe\": \"4\", \"cuma\": \"5\", \"cumartesi\": \"6\", \"pazar\": \"7\"}\n",
    "print (gunler)"
   ]
  },
  {
   "cell_type": "markdown",
   "metadata": {},
   "source": [
    "#  Kullanıcıya günleri listeleyerek 2 farklı gün seçmesini isteyin (örneğin pazartesi ve salı için \"12\" gibi). Kullanıcının seçtiği günleri sözlükten silerek kalan 5 günü ekrana yazdırın."
   ]
  },
  {
   "cell_type": "code",
   "execution_count": 30,
   "metadata": {
    "scrolled": true
   },
   "outputs": [
    {
     "name": "stdout",
     "output_type": "stream",
     "text": [
      "gun_1:1\n",
      "gun_2:2\n",
      " gun_1 1 ve gun_2 2 silinicek.\n"
     ]
    }
   ],
   "source": [
    "gun1 = input ( 'gun_1:') # ilk iki silinecek gunun belirlenmesi\n",
    "gun2 = input ( 'gun_2:')\n",
    "print (\" gun_1 {} ve gun_2 {} silinicek.\".format(gun1,gun2) )"
   ]
  },
  {
   "cell_type": "code",
   "execution_count": 31,
   "metadata": {},
   "outputs": [
    {
     "name": "stdout",
     "output_type": "stream",
     "text": [
      "[['pazartesi', '1'], ['sali', '2'], ['carsamba', '3'], ['persembe', '4'], ['cuma', '5'], ['cumartesi', '6'], ['pazar', '7']]\n",
      "[['pazartesi', '1'], ['carsamba', '3'], ['persembe', '4'], ['cuma', '5'], ['cumartesi', '6'], ['pazar', '7']]\n",
      "[['pazartesi', '1'], ['carsamba', '3'], ['cuma', '5'], ['cumartesi', '6'], ['pazar', '7']]\n"
     ]
    }
   ],
   "source": [
    "gunler = [ [\"pazartesi\", \"1\"], [\"sali\", \"2\"], [\"carsamba\", \"3\"], [\"persembe\", \"4\"], [\"cuma\", \"5\"], [\"cumartesi\", \"6\"], [\"pazar\", \"7\"] ]\n",
    "print (gunler)\n",
    "gunler.remove(gunler[1])\n",
    "print(gunler)\n",
    "gunler.remove(gunler[2])\n",
    "print(gunler)"
   ]
  },
  {
   "cell_type": "markdown",
   "metadata": {},
   "source": [
    "# Ayların kaç gün çektiğini karıştırabiliyoruz. Bunun için bir liste oluşturun ancak listenizde ay isimleri ve gün sayıları beraber bulunsun (ipucu: listenizin içinde başka bir veri yapısı yer alacak!)."
   ]
  },
  {
   "cell_type": "markdown",
   "metadata": {},
   "source": [
    "Ocak = Mart = Mayıs = Temmuz = Ağustos = Ekim = Aralık = 31\n",
    "Nisan = Haziran = Eylül = Kasım = 30\n",
    "Şubat = 28"
   ]
  },
  {
   "cell_type": "code",
   "execution_count": 10,
   "metadata": {},
   "outputs": [
    {
     "name": "stdout",
     "output_type": "stream",
     "text": [
      "[['ocak', 31], ['subat', 28], ['Mart', 31], ['Nisan', 30], ['Mayis', 31], ['Haziran', 30], ['Temmuz', 31], ['Agustos', 31], ['Eylul', 30], ['Ekim', 31], ['Kasim', 30], ['Aralik', 31]]\n"
     ]
    }
   ],
   "source": [
    "Aylar = [ [ \"ocak\", 31 ], [ \"subat\", 28], [\"Mart\",31], [\"Nisan\",30], [\"Mayis\",31], [\"Haziran\",30], [\"Temmuz\",31], [\"Agustos\",31], [\"Eylul\",30], [\"Ekim\",31], [\"Kasim\",30], [\"Aralik\",31]]\n",
    "print(Aylar)"
   ]
  },
  {
   "cell_type": "markdown",
   "metadata": {},
   "source": [
    "# Bilgileri bir önceki listeden alan başka bir ay listesi oluşturun. Bu kez ayları günlerle birlikte listenin içinde iki ayrı listede tutun."
   ]
  },
  {
   "cell_type": "code",
   "execution_count": 11,
   "metadata": {},
   "outputs": [
    {
     "name": "stdout",
     "output_type": "stream",
     "text": [
      "[['ocak', 31], ['subat', 28], ['Mart', 31], ['Nisan', 30], ['Mayis', 31], ['Haziran', 30], ['Temmuz', 31], ['Agustos', 31], ['Eylul', 30], ['Ekim', 31], ['Kasim', 30], ['Aralik', 31]]\n"
     ]
    }
   ],
   "source": [
    "print (Aylar) #Bir Onceki Liste"
   ]
  },
  {
   "cell_type": "code",
   "execution_count": 25,
   "metadata": {},
   "outputs": [
    {
     "name": "stdout",
     "output_type": "stream",
     "text": [
      "[[['ocak', 31], ['Mart', 31], ['Mayis', 31], ['Temmuz', 31], ['Agustos', 31], ['Ekim', 31], ['Aralik', 31]], [['subat', 28], ['Nisan', 30], ['Haziran', 30], ['Eylul', 30], ['Kasim', 30]]]\n"
     ]
    }
   ],
   "source": [
    "Aylar = [ [['ocak', 31],  ['Mart', 31], ['Mayis', 31],['Temmuz', 31], ['Agustos', 31],['Ekim', 31],['Aralik', 31]] , [['subat', 28],['Nisan', 30],['Haziran', 30],['Eylul', 30],['Kasim', 30]] ]\n",
    "print(Aylar)  # iki ayri liste"
   ]
  },
  {
   "cell_type": "markdown",
   "metadata": {},
   "source": [
    "# Şimdi ise mevsim mevsim ayrılmış ay listeleri oluşturun. Liste adlarına mevsimlerin adlarını verin."
   ]
  },
  {
   "cell_type": "code",
   "execution_count": 28,
   "metadata": {},
   "outputs": [
    {
     "name": "stdout",
     "output_type": "stream",
     "text": [
      "[['Mart', 31], ['Nisan', 30], ['Mayis', 31]] [['Haziran', 30], ['Temmuz', 31], ['Agustos', 31]] [['Eylul', 30], ['Ekim', 31], ['Kasim', 30]] [['Aralik', 31], ['ocak', 31], ['subat', 28]]\n"
     ]
    }
   ],
   "source": [
    "Ilkbahar = [ ['Mart', 31], ['Nisan', 30], ['Mayis', 31] ] \n",
    "Yaz = [['Haziran', 30], ['Temmuz', 31], ['Agustos', 31] ]\n",
    "Sonbahar = [ ['Eylul', 30], ['Ekim', 31], ['Kasim', 30]]\n",
    "Kis = [ ['Aralik', 31],['ocak', 31], ['subat', 28] ]\n",
    "print (Ilkbahar, Yaz, Sonbahar, Kis)"
   ]
  },
  {
   "cell_type": "markdown",
   "metadata": {},
   "source": [
    "# Son olarak, bir önceki sorudaki listeden yaz ayının kaç gün sürdüğünü hesaplayın. "
   ]
  },
  {
   "cell_type": "code",
   "execution_count": 29,
   "metadata": {},
   "outputs": [
    {
     "name": "stdout",
     "output_type": "stream",
     "text": [
      "[['Haziran', 30], ['Temmuz', 31], ['Agustos', 31]]\n"
     ]
    }
   ],
   "source": [
    "print (Yaz)"
   ]
  },
  {
   "cell_type": "markdown",
   "metadata": {},
   "source": []
  }
 ],
 "metadata": {
  "kernelspec": {
   "display_name": "Python 3",
   "language": "python",
   "name": "python3"
  },
  "language_info": {
   "codemirror_mode": {
    "name": "ipython",
    "version": 3
   },
   "file_extension": ".py",
   "mimetype": "text/x-python",
   "name": "python",
   "nbconvert_exporter": "python",
   "pygments_lexer": "ipython3",
   "version": "3.7.2"
  }
 },
 "nbformat": 4,
 "nbformat_minor": 2
}
