{
 "cells": [
  {
   "cell_type": "markdown",
   "metadata": {},
   "source": [
    "1. İçerisinde 7 günün bulunduğu bir sözlük oluşturun. Kullanıcıya günleri listeleyerek 2 farklı gün seçmesini isteyin (örneğin pazartesi ve salı için \"12\" gibi). Kullanıcının seçtiği günleri sözlükten silerek kalan 5 günü ekrana yazdırın.\n",
    "\n",
    "2. Ayların kaç gün çektiğini karıştırabiliyoruz. Bunun için bir liste oluşturun ancak listenizde ay isimleri ve gün sayıları beraber bulunsun (ipucu: listenizin içinde başka bir veri yapısı yer alacak!).\n",
    "\n",
    "3. Bilgileri bir önceki listeden alan başka bir ay listesi oluşturun. Bu kez ayları günlerle birlikte listenin içinde iki ayrı listede tutun.\n",
    "\n",
    "4. Şimdi ise mevsim mevsim ayrılmış ay listeleri oluşturun. Liste adlarına mevsimlerin adlarını verin.\n",
    "\n",
    "5. Son olarak, bir önceki sorudaki listeden yaz ayının kaç gün sürdüğünü hesaplayın."
   ]
  },
  {
   "cell_type": "markdown",
   "metadata": {},
   "source": [
    "1. İçerisinde 7 günün bulunduğu bir sözlük oluşturun. Kullanıcıya günleri listeleyerek 2 farklı gün seçmesini isteyin (örneğin pazartesi ve salı için \"12\" gibi). Kullanıcının seçtiği günleri sözlükten silerek kalan 5 günü ekrana yazdırın"
   ]
  },
  {
   "cell_type": "code",
   "execution_count": 58,
   "metadata": {},
   "outputs": [
    {
     "name": "stdout",
     "output_type": "stream",
     "text": [
      "['Pazartesi', 'Sali', 'Çarsamba', 'Persembe', 'Cuma', 'Cumartesi', 'Pazar']\n"
     ]
    }
   ],
   "source": [
    "gunler = list(('Pazartesi', 'Sali', 'Çarsamba', 'Persembe', 'Cuma', 'Cumartesi', 'Pazar'))\n",
    "print(gunler)"
   ]
  },
  {
   "cell_type": "markdown",
   "metadata": {},
   "source": [
    " Kullanıcıya günleri listeleyerek 2 farklı gün seçmesini isteyin (örneğin pazartesi ve salı için \"12\" gibi)."
   ]
  },
  {
   "cell_type": "code",
   "execution_count": 60,
   "metadata": {},
   "outputs": [
    {
     "name": "stdout",
     "output_type": "stream",
     "text": [
      "['Pazartesi', 'Sali']\n"
     ]
    }
   ],
   "source": [
    "print(gunler[0:2])"
   ]
  },
  {
   "cell_type": "markdown",
   "metadata": {},
   "source": [
    "Kullanıcının seçtiği günleri sözlükten silerek kalan 5 günü ekrana yazdırın."
   ]
  },
  {
   "cell_type": "code",
   "execution_count": 62,
   "metadata": {},
   "outputs": [
    {
     "name": "stdout",
     "output_type": "stream",
     "text": [
      "['Çarsamba', 'Persembe', 'Cuma', 'Cumartesi', 'Pazar']\n"
     ]
    }
   ],
   "source": [
    "gunler=['Pazartesi', 'Sali', 'Çarsamba', 'Persembe', 'Cuma', 'Cumartesi', 'Pazar']\n",
    "del(gunler[0:2])\n",
    "print(gunler)"
   ]
  },
  {
   "cell_type": "markdown",
   "metadata": {},
   "source": [
    "2. Ayların kaç gün çektiğini karıştırabiliyoruz. Bunun için bir liste oluşturun ancak listenizde ay isimleri ve gün sayıları beraber bulunsun (ipucu: listenizin içinde başka bir veri yapısı yer alacak!)."
   ]
  },
  {
   "cell_type": "code",
   "execution_count": 74,
   "metadata": {},
   "outputs": [
    {
     "name": "stdout",
     "output_type": "stream",
     "text": [
      "{'ocak': 31, 'subat': 28, 'mart': 31, 'nisan': 30, 'mayis': 31, 'haziran': 30, 'temmuz': 31, 'agustos': 31, 'eylul': 31, 'ekim': 31, 'kasim': 30, 'aralik': 31}\n",
      "<class 'dict'>\n",
      "['ocak', 'subat', 'mart', 'nisan', 'mayis', 'haziran', 'temmuz', 'agustos', 'eylul', 'ekim', 'kasim', 'aralik']\n"
     ]
    }
   ],
   "source": [
    "aylarin_gun_sayisi= {\n",
    "    'ocak':   31,\n",
    "    'subat' : 28,\n",
    "    'mart' :  31,\n",
    "    'nisan' : 30, \n",
    "    'mayis' : 31,\n",
    "    'haziran':30,\n",
    "    'temmuz': 31,\n",
    "    'agustos':31,\n",
    "    'eylul':  31,\n",
    "    'ekim':   31, \n",
    "    'kasim':  30, \n",
    "    'aralik': 31 \n",
    "}\n",
    "\n",
    "print(aylarin_gun_sayisi)\n",
    "print( type(aylarin_gun_sayisi))\n",
    "print(list(aylarin_gun_sayisi))"
   ]
  },
  {
   "cell_type": "markdown",
   "metadata": {},
   "source": [
    "3. Bilgileri bir önceki listeden alan başka bir ay listesi oluşturun. Bu kez ayları günlerle birlikte listenin içinde iki ayrı listede tutun."
   ]
  },
  {
   "cell_type": "code",
   "execution_count": null,
   "metadata": {},
   "outputs": [],
   "source": []
  },
  {
   "cell_type": "markdown",
   "metadata": {},
   "source": [
    "4. Şimdi ise mevsim mevsim ayrılmış ay listeleri oluşturun. Liste adlarına mevsimlerin adlarını verin."
   ]
  },
  {
   "cell_type": "code",
   "execution_count": 80,
   "metadata": {},
   "outputs": [
    {
     "name": "stdout",
     "output_type": "stream",
     "text": [
      "['nisan', 'mayis', 'mart']\n",
      "['haziran', 'temmuz', 'agustos']\n",
      "['eylul', 'ekim', 'kasim']\n",
      "['aralik', 'ocak', 'subat']\n"
     ]
    }
   ],
   "source": [
    "Ilkbahar =[\"nisan\", \"mayis\", \"mart\" ]\n",
    "yaz = [ \"haziran\", \"temmuz\", \"agustos\"]\n",
    "sonbahar =  [ \"eylul\", \"ekim\", \"kasim\"]\n",
    "kis = [ \"aralik\", \"ocak\", \"subat\"]\n",
    "print( Ilkbahar)\n",
    "print(yaz)\n",
    "print(sonbahar)\n",
    "print(kis)"
   ]
  },
  {
   "cell_type": "markdown",
   "metadata": {},
   "source": [
    "5. Son olarak, bir önceki sorudaki listeden yaz ayının kaç gün sürdüğünü hesaplayın."
   ]
  },
  {
   "cell_type": "code",
   "execution_count": 89,
   "metadata": {},
   "outputs": [
    {
     "name": "stdout",
     "output_type": "stream",
     "text": [
      "['ocak', 'subat', 'mart', 'nisan', 'mayis', 'haziran', 'temmuz', 'agustos', 'eylul', 'ekim', 'kasim', 'aralik']\n",
      "toplam_gun_sayisi: 92\n"
     ]
    }
   ],
   "source": [
    "aylarin_gun_sayisi= {\n",
    "    'ocak':   31,\n",
    "    'subat' : 28,\n",
    "    'mart' :  31,\n",
    "    'nisan' : 30, \n",
    "    'mayis' : 31,\n",
    "    'haziran':30,\n",
    "    'temmuz': 31,\n",
    "    'agustos':31,\n",
    "    'eylul':  31,\n",
    "    'ekim':   31, \n",
    "    'kasim':  30, \n",
    "    'aralik': 31 \n",
    "}\n",
    "print(list(aylarin_gun_sayisi))\n",
    "print( \"toplam_gun_sayisi:\", 30+31+31)"
   ]
  }
 ],
 "metadata": {
  "kernelspec": {
   "display_name": "Python 3",
   "language": "python",
   "name": "python3"
  },
  "language_info": {
   "codemirror_mode": {
    "name": "ipython",
    "version": 3
   },
   "file_extension": ".py",
   "mimetype": "text/x-python",
   "name": "python",
   "nbconvert_exporter": "python",
   "pygments_lexer": "ipython3",
   "version": "3.7.2"
  }
 },
 "nbformat": 4,
 "nbformat_minor": 2
}
