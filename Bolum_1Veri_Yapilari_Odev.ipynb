{
 "cells": [
  {
   "cell_type": "markdown",
   "metadata": {},
   "source": [
    "#İçerisinde 7 günün bulunduğu bir sözlük oluşturun."
   ]
  },
  {
   "cell_type": "code",
   "execution_count": 1,
   "metadata": {},
   "outputs": [
    {
     "name": "stdout",
     "output_type": "stream",
     "text": [
      "{'1': 'pazartesi', '2': 'sali', '3': 'carsamba', '4': 'persembe', '5': 'cuma', '6': 'cumartesi', '7': 'pazar'}\n"
     ]
    }
   ],
   "source": [
    "sozluk = { \"1\": \"pazartesi\", \"2\":\"sali\",\"3\": \"carsamba\" , \"4\": \"persembe\" , \"5\":\"cuma\", \"6\" :\"cumartesi\", \"7\":\"pazar\"}\n",
    "print (sozluk)"
   ]
  },
  {
   "cell_type": "markdown",
   "metadata": {},
   "source": [
    "#Kullanıcıya günleri listeleyerek 2 farklı gün seçmesini isteyin\n",
    "#(örneğin pazartesi ve salı için \"12\" gibi). Kullanıcının seçtiği günleri sözlükten silerek kalan 5 günü ekrana yazdırın."
   ]
  },
  {
   "cell_type": "code",
   "execution_count": 2,
   "metadata": {},
   "outputs": [
    {
     "name": "stdout",
     "output_type": "stream",
     "text": [
      "silinecek_gunler_1sali\n",
      "silinecek_gunler_2cuma\n",
      " silinecek_gunler_1 sali ve silinecek_gunler_2 cuma silinicek.\n"
     ]
    }
   ],
   "source": [
    "silinecek_gunler_1 = input ( 'silinecek_gunler_1') # ilk iki silinecek gunun belirlenmesi\n",
    "silinecek_gunler_2 = input ( 'silinecek_gunler_2') # ilk iki silinecek gunun belirlenmesi\n",
    "print (\" silinecek_gunler_1 {} ve silinecek_gunler_2 {} silinicek.\".format(silinecek_gunler_1,silinecek_gunler_2) ) "
   ]
  },
  {
   "cell_type": "code",
   "execution_count": 4,
   "metadata": {},
   "outputs": [
    {
     "name": "stdout",
     "output_type": "stream",
     "text": [
      "[['pazartesi', '1'], ['sali', '2'], ['carsamba', '3'], ['persembe', '4'], ['cuma', '5'], ['cumartesi', '6'], ['pazar', '7']]\n",
      "[['pazartesi', '1'], ['carsamba', '3'], ['persembe', '4'], ['cuma', '5'], ['cumartesi', '6'], ['pazar', '7']]\n",
      "[['pazartesi', '1'], ['carsamba', '3'], ['cuma', '5'], ['cumartesi', '6'], ['pazar', '7']]\n"
     ]
    }
   ],
   "source": [
    "gunler = [ [\"pazartesi\", \"1\"], [\"sali\", \"2\"], [\"carsamba\", \"3\"], [\"persembe\", \"4\"], [\"cuma\", \"5\"], [\"cumartesi\", \"6\"], [\"pazar\", \"7\"] ]\n",
    "print (gunler)\n",
    "gunler.remove(gunler[1])\n",
    "print(gunler)\n",
    "gunler.remove(gunler[2])\n",
    "print(gunler)"
   ]
  },
  {
   "cell_type": "code",
   "execution_count": 5,
   "metadata": {},
   "outputs": [
    {
     "name": "stdout",
     "output_type": "stream",
     "text": [
      "silinecek_gunler: ['pazartesi']\n",
      "silinecek_gunler: ['sali']\n"
     ]
    }
   ],
   "source": [
    "print (\"silinecek_gunler:\" , [sozluk [\"1\"]])\n",
    "print (\"silinecek_gunler:\" , [sozluk [\"2\"]])"
   ]
  },
  {
   "cell_type": "code",
   "execution_count": 6,
   "metadata": {},
   "outputs": [
    {
     "name": "stdout",
     "output_type": "stream",
     "text": [
      "{'3': 'carsamba', '4': 'persembe', '5': 'cuma', '6': 'cumartesi', '7': 'pazar'}\n"
     ]
    }
   ],
   "source": [
    "del sozluk [\"1\"]\n",
    "del sozluk [\"2\"]\n",
    "print(sozluk)"
   ]
  },
  {
   "cell_type": "markdown",
   "metadata": {},
   "source": [
    "# Ayların kaç gün çektiğini karıştırabiliyoruz. Bunun için bir liste oluşturun ancak \n",
    "#listenizde ay isimleri ve gün sayıları beraber bulunsun (ipucu: listenizin içinde başka bir veri yapısı yer alacak!)."
   ]
  },
  {
   "cell_type": "code",
   "execution_count": 8,
   "metadata": {},
   "outputs": [],
   "source": [
    "Ocak = Mart = Mayıs = Temmuz = Ağustos = Ekim = Aralık = 31\n",
    "Nisan = Haziran = Eylül = Kasım = 30\n",
    "Şubat = 28"
   ]
  },
  {
   "cell_type": "code",
   "execution_count": 9,
   "metadata": {},
   "outputs": [
    {
     "name": "stdout",
     "output_type": "stream",
     "text": [
      "[['ocak', 31], ['subat', 28], ['Mart', 31], ['Nisan', 30], ['Mayis', 31], ['Haziran', 30], ['Temmuz', 31], ['Agustos', 31], ['Eylul', 30], ['Ekim', 31], ['Kasim', 30], ['Aralik', 31]]\n"
     ]
    }
   ],
   "source": [
    "Aylar = [ [ \"ocak\", 31 ], [ \"subat\", 28], [\"Mart\",31], [\"Nisan\",30], [\"Mayis\",31], [\"Haziran\",30], [\"Temmuz\",31], [\"Agustos\",31], [\"Eylul\",30], [\"Ekim\",31], [\"Kasim\",30], [\"Aralik\",31]]\n",
    "print(Aylar)"
   ]
  },
  {
   "cell_type": "markdown",
   "metadata": {},
   "source": [
    "# Bilgileri bir önceki listeden alan başka bir ay listesi oluşturun.\n",
    "#Bu kez ayları günlerle birlikte listenin içinde iki ayrı listede tutun."
   ]
  },
  {
   "cell_type": "code",
   "execution_count": 10,
   "metadata": {},
   "outputs": [
    {
     "name": "stdout",
     "output_type": "stream",
     "text": [
      "[['ocak', 31], ['subat', 28], ['Mart', 31], ['Nisan', 30], ['Mayis', 31], ['Haziran', 30], ['Temmuz', 31], ['Agustos', 31], ['Eylul', 30], ['Ekim', 31], ['Kasim', 30], ['Aralik', 31]]\n"
     ]
    }
   ],
   "source": [
    "print (Aylar) #Bir Onceki Liste"
   ]
  },
  {
   "cell_type": "code",
   "execution_count": 11,
   "metadata": {},
   "outputs": [
    {
     "name": "stdout",
     "output_type": "stream",
     "text": [
      "[[['ocak', 31], ['Mart', 31], ['Mayis', 31], ['Temmuz', 31], ['Agustos', 31], ['Ekim', 31], ['Aralik', 31]], [['subat', 28], ['Nisan', 30], ['Haziran', 30], ['Eylul', 30], ['Kasim', 30]]]\n"
     ]
    }
   ],
   "source": [
    "Aylar = [ [['ocak', 31],  ['Mart', 31], ['Mayis', 31],['Temmuz', 31], ['Agustos', 31],\n",
    "           ['Ekim', 31],['Aralik', 31]] , [['subat', 28],['Nisan', 30],['Haziran', 30],['Eylul', 30],['Kasim', 30]] ]\n",
    "print(Aylar)  # iki ayri liste"
   ]
  },
  {
   "cell_type": "markdown",
   "metadata": {},
   "source": [
    "#Şimdi ise mevsim mevsim ayrılmış ay listeleri oluşturun. Liste adlarına mevsimlerin adlarını verin."
   ]
  },
  {
   "cell_type": "code",
   "execution_count": 12,
   "metadata": {},
   "outputs": [
    {
     "name": "stdout",
     "output_type": "stream",
     "text": [
      "[['Mart', 31], ['Nisan', 30], ['Mayis', 31]] [['Haziran', 30], ['Temmuz', 31], ['Agustos', 31]] [['Eylul', 30], ['Ekim', 31], ['Kasim', 30]] [['Aralik', 31], ['ocak', 31], ['subat', 28]]\n"
     ]
    }
   ],
   "source": [
    "Ilkbahar = [ ['Mart', 31], ['Nisan', 30], ['Mayis', 31] ] \n",
    "Yaz = [['Haziran', 30], ['Temmuz', 31], ['Agustos', 31] ]\n",
    "Sonbahar = [ ['Eylul', 30], ['Ekim', 31], ['Kasim', 30]]\n",
    "Kis = [ ['Aralik', 31],['Ocak', 31], ['Subat', 28] ]\n",
    "print (Ilkbahar, Yaz, Sonbahar, Kis)"
   ]
  },
  {
   "cell_type": "markdown",
   "metadata": {},
   "source": [
    "# Son olarak, bir önceki sorudaki listeden yaz ayının kaç gün sürdüğünü hesaplayın. "
   ]
  },
  {
   "cell_type": "code",
   "execution_count": 20,
   "metadata": {},
   "outputs": [
    {
     "data": {
      "text/plain": [
       "92"
      ]
     },
     "execution_count": 20,
     "metadata": {},
     "output_type": "execute_result"
    }
   ],
   "source": [
    "Ocak = Mart = Mayıs = Temmuz = Agustos = Ekim = Aralık = 31\n",
    "Nisan = Haziran = Eylül = Kasım = 30\n",
    "Subat = 28 \n",
    "yaz_toplam = Haziran + Temmuz + Agustos\n",
    "yaz_toplam"
   ]
  }
 ],
 "metadata": {
  "kernelspec": {
   "display_name": "Python 3",
   "language": "python",
   "name": "python3"
  },
  "language_info": {
   "codemirror_mode": {
    "name": "ipython",
    "version": 3
   },
   "file_extension": ".py",
   "mimetype": "text/x-python",
   "name": "python",
   "nbconvert_exporter": "python",
   "pygments_lexer": "ipython3",
   "version": "3.7.2"
  }
 },
 "nbformat": 4,
 "nbformat_minor": 2
}
