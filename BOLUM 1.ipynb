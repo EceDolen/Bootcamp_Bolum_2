{
 "cells": [
  {
   "cell_type": "code",
   "execution_count": 5,
   "metadata": {},
   "outputs": [],
   "source": [
    "ana_para = 1000"
   ]
  },
  {
   "cell_type": "code",
   "execution_count": 9,
   "metadata": {},
   "outputs": [],
   "source": [
    "gunluk_faiz = 0.12"
   ]
  },
  {
   "cell_type": "code",
   "execution_count": 8,
   "metadata": {},
   "outputs": [],
   "source": [
    "ort_kazanc = 1210.68"
   ]
  },
  {
   "cell_type": "code",
   "execution_count": 7,
   "metadata": {},
   "outputs": [],
   "source": [
    "yatirim_araci = \"bitcoin\""
   ]
  },
  {
   "cell_type": "code",
   "execution_count": 10,
   "metadata": {},
   "outputs": [],
   "source": [
    "sure = \"1 hafta sonunda\""
   ]
  },
  {
   "cell_type": "code",
   "execution_count": 69,
   "metadata": {},
   "outputs": [
    {
     "name": "stdout",
     "output_type": "stream",
     "text": [
      "hafta basinda 1000 dolarlik bitcoin  aldigimizda gunde ortalama 0.12 kazancla 1 hafta sonunda 1210.68 dolar kazanirdik\n"
     ]
    }
   ],
   "source": [
    "print ( \"\" \"hafta basinda\", ana_para , \"dolarlik\", yatirim_araci, \" aldigimizda gunde ortalama\", gunluk_faiz, \"kazancla\",\n",
    "      sure, ort_kazanc, \"dolar\",  \"kazanirdik\"  \"\")"
   ]
  },
  {
   "cell_type": "code",
   "execution_count": null,
   "metadata": {},
   "outputs": [],
   "source": []
  },
  {
   "cell_type": "code",
   "execution_count": null,
   "metadata": {},
   "outputs": [],
   "source": []
  },
  {
   "cell_type": "code",
   "execution_count": null,
   "metadata": {},
   "outputs": [],
   "source": []
  },
  {
   "cell_type": "code",
   "execution_count": 125,
   "metadata": {},
   "outputs": [
    {
     "name": "stdout",
     "output_type": "stream",
     "text": [
      "dosya :ece\n",
      "dosya ece py\n"
     ]
    }
   ],
   "source": [
    "dosya_adi = input ( 'dosya :')\n",
    "print ( \"dosya {} py\".format(dosya_adi))"
   ]
  },
  {
   "cell_type": "code",
   "execution_count": null,
   "metadata": {},
   "outputs": [],
   "source": []
  },
  {
   "cell_type": "code",
   "execution_count": null,
   "metadata": {},
   "outputs": [],
   "source": []
  },
  {
   "cell_type": "code",
   "execution_count": null,
   "metadata": {},
   "outputs": [],
   "source": []
  },
  {
   "cell_type": "code",
   "execution_count": 34,
   "metadata": {},
   "outputs": [
    {
     "name": "stdout",
     "output_type": "stream",
     "text": [
      "faiz : 230.13698630136986\n"
     ]
    }
   ],
   "source": [
    "gunluk_artis = 12\n",
    "gun_sayisi = 7\n",
    "ana_para = 1000 \n",
    "\n",
    "print (\"faiz :\", gunluk_artis*gun_sayisi*ana_para/(365)  )"
   ]
  },
  {
   "cell_type": "code",
   "execution_count": 51,
   "metadata": {
    "scrolled": true
   },
   "outputs": [],
   "source": [
    "faiz = 230.13698630136986 \n"
   ]
  },
  {
   "cell_type": "code",
   "execution_count": 56,
   "metadata": {
    "scrolled": true
   },
   "outputs": [
    {
     "name": "stdout",
     "output_type": "stream",
     "text": [
      "230.13698630136986\n",
      "faiz 230.14'dir\n"
     ]
    }
   ],
   "source": [
    "print (faiz)\n",
    "print ( \"faiz {:.2f}'dir\" .format(faiz))"
   ]
  },
  {
   "cell_type": "code",
   "execution_count": 62,
   "metadata": {},
   "outputs": [
    {
     "name": "stdout",
     "output_type": "stream",
     "text": [
      "toplam_kazanc : 1230.13698630137\n"
     ]
    }
   ],
   "source": [
    "print (\"toplam_kazanc :\", faiz+ ana_para)\n"
   ]
  }
 ],
 "metadata": {
  "kernelspec": {
   "display_name": "Python 3",
   "language": "python",
   "name": "python3"
  },
  "language_info": {
   "codemirror_mode": {
    "name": "ipython",
    "version": 3
   },
   "file_extension": ".py",
   "mimetype": "text/x-python",
   "name": "python",
   "nbconvert_exporter": "python",
   "pygments_lexer": "ipython3",
   "version": "3.7.2"
  }
 },
 "nbformat": 4,
 "nbformat_minor": 2
}
